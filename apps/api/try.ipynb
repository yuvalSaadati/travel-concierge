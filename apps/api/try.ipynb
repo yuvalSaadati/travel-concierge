{
 "cells": [
  {
   "cell_type": "code",
   "execution_count": 1,
   "id": "6b090da5",
   "metadata": {},
   "outputs": [
    {
     "name": "stderr",
     "output_type": "stream",
     "text": [
      "C:\\Users\\user\\AppData\\Local\\Temp\\ipykernel_23408\\3705074010.py:5: LangChainDeprecationWarning: The class `HuggingFaceEmbeddings` was deprecated in LangChain 0.2.2 and will be removed in 1.0. An updated version of the class exists in the :class:`~langchain-huggingface package and should be used instead. To use it run `pip install -U :class:`~langchain-huggingface` and import as `from :class:`~langchain_huggingface import HuggingFaceEmbeddings``.\n",
      "  emb = HuggingFaceEmbeddings(model_name=\"all-MiniLM-L6-v2\", encode_kwargs={\"normalize_embeddings\": True})\n",
      "c:\\Users\\user\\Miniconda3\\Lib\\site-packages\\tqdm\\auto.py:21: TqdmWarning: IProgress not found. Please update jupyter and ipywidgets. See https://ipywidgets.readthedocs.io/en/stable/user_install.html\n",
      "  from .autonotebook import tqdm as notebook_tqdm\n"
     ]
    },
    {
     "name": "stdout",
     "output_type": "stream",
     "text": [
      "0 docs\n"
     ]
    },
    {
     "ename": "IndexError",
     "evalue": "list index out of range",
     "output_type": "error",
     "traceback": [
      "\u001b[31m---------------------------------------------------------------------------\u001b[39m",
      "\u001b[31mIndexError\u001b[39m                                Traceback (most recent call last)",
      "\u001b[36mCell\u001b[39m\u001b[36m \u001b[39m\u001b[32mIn[1]\u001b[39m\u001b[32m, line 10\u001b[39m\n\u001b[32m      8\u001b[39m docs = db.similarity_search(\u001b[33m\"\u001b[39m\u001b[33mancient amphitheatre in Rome\u001b[39m\u001b[33m\"\u001b[39m, k=\u001b[32m3\u001b[39m)\n\u001b[32m      9\u001b[39m \u001b[38;5;28mprint\u001b[39m(\u001b[38;5;28mlen\u001b[39m(docs), \u001b[33m\"\u001b[39m\u001b[33mdocs\u001b[39m\u001b[33m\"\u001b[39m)          \u001b[38;5;66;03m# should be > 0 if your ingest worked\u001b[39;00m\n\u001b[32m---> \u001b[39m\u001b[32m10\u001b[39m \u001b[38;5;28mprint\u001b[39m(\u001b[43mdocs\u001b[49m\u001b[43m[\u001b[49m\u001b[32;43m0\u001b[39;49m\u001b[43m]\u001b[49m.metadata, docs[\u001b[32m0\u001b[39m].page_content[:\u001b[32m120\u001b[39m])\n",
      "\u001b[31mIndexError\u001b[39m: list index out of range"
     ]
    }
   ],
   "source": [
    "from langchain_chroma import Chroma\n",
    "from langchain_community.embeddings import HuggingFaceEmbeddings\n",
    "\n",
    "PERSIST_DIR = \"vectorstore\"\n",
    "emb = HuggingFaceEmbeddings(model_name=\"all-MiniLM-L6-v2\", encode_kwargs={\"normalize_embeddings\": True})\n",
    "db = Chroma(collection_name=\"guides\", persist_directory=PERSIST_DIR, embedding_function=emb)\n",
    "\n",
    "docs = db.similarity_search(\"ancient amphitheatre in Rome\", k=3)\n",
    "print(len(docs), \"docs\")          # should be > 0 if your ingest worked\n",
    "print(docs[0].metadata, docs[0].page_content[:120])\n"
   ]
  }
 ],
 "metadata": {
  "kernelspec": {
   "display_name": "Python 3",
   "language": "python",
   "name": "python3"
  },
  "language_info": {
   "codemirror_mode": {
    "name": "ipython",
    "version": 3
   },
   "file_extension": ".py",
   "mimetype": "text/x-python",
   "name": "python",
   "nbconvert_exporter": "python",
   "pygments_lexer": "ipython3",
   "version": "3.13.5"
  }
 },
 "nbformat": 4,
 "nbformat_minor": 5
}
